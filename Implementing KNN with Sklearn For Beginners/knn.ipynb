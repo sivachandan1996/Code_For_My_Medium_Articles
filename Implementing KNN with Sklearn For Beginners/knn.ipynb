{
 "cells": [
  {
   "cell_type": "code",
   "execution_count": 1,
   "metadata": {},
   "outputs": [
    {
     "name": "stdout",
     "output_type": "stream",
     "text": [
      "dict_keys(['data', 'target', 'frame', 'target_names', 'DESCR', 'feature_names', 'filename'])\n"
     ]
    }
   ],
   "source": [
    "from sklearn import datasets\n",
    "import pandas as pd\n",
    "\n",
    "# Loading the data\n",
    "iris = datasets.load_iris()\n",
    "\n",
    "\"\"\" datasets.load_iris() gives us a batch file. Batch Files are like dictionaries. They have keys and values.\n",
    "    Let us look at the keys to get a sense of what we are dealing with here\"\"\"\n",
    "# Printing the keys of iris batch file\n",
    "print(iris.keys())"
   ]
  },
  {
   "cell_type": "code",
   "execution_count": 2,
   "metadata": {},
   "outputs": [],
   "source": [
    "# Let's Load the Feature Data into a Data Frame called x\n",
    "x = pd.DataFrame(iris.data, columns = iris.feature_names)\n",
    "\n",
    "# Let's Load the Target variable into a Data Frame called y \n",
    "y = pd.DataFrame(iris.target, columns = [\"Species\"])"
   ]
  }
 ],
 "metadata": {
  "interpreter": {
   "hash": "b3ba2566441a7c06988d0923437866b63cedc61552a5af99d1f4fb67d367b25f"
  },
  "kernelspec": {
   "display_name": "Python 3.8.8 ('base')",
   "language": "python",
   "name": "python3"
  },
  "language_info": {
   "codemirror_mode": {
    "name": "ipython",
    "version": 3
   },
   "file_extension": ".py",
   "mimetype": "text/x-python",
   "name": "python",
   "nbconvert_exporter": "python",
   "pygments_lexer": "ipython3",
   "version": "3.8.8"
  },
  "orig_nbformat": 4
 },
 "nbformat": 4,
 "nbformat_minor": 2
}
