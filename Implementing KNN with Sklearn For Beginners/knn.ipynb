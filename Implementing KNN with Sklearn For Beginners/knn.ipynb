{
 "cells": [
  {
   "cell_type": "markdown",
   "metadata": {},
   "source": [
    "# iris_1.py"
   ]
  },
  {
   "cell_type": "code",
   "execution_count": 2,
   "metadata": {},
   "outputs": [
    {
     "name": "stdout",
     "output_type": "stream",
     "text": [
      "dict_keys(['data', 'target', 'frame', 'target_names', 'DESCR', 'feature_names', 'filename'])\n"
     ]
    }
   ],
   "source": [
    "from sklearn import datasets\n",
    "import pandas as pd\n",
    "\n",
    "# Loading the data\n",
    "iris = datasets.load_iris()\n",
    "\n",
    "\"\"\" datasets.load_iris() gives us a batch file. Batch Files are like dictionaries. They have keys and values.\n",
    "    Let us look at the keys to get a sense of what we are dealing with here\"\"\"\n",
    "# Printing the keys of iris batch file\n",
    "print(iris.keys())"
   ]
  },
  {
   "cell_type": "markdown",
   "metadata": {},
   "source": [
    "# iris_2.py"
   ]
  },
  {
   "cell_type": "code",
   "execution_count": 3,
   "metadata": {},
   "outputs": [],
   "source": [
    "# Let's Load the Feature Data into a Data Frame called x\n",
    "x = pd.DataFrame(iris.data, columns = iris.feature_names)\n",
    "\n",
    "# Let's Load the Target variable into a Data Frame called y \n",
    "y = pd.DataFrame(iris.target, columns = [\"Species\"])"
   ]
  },
  {
   "cell_type": "markdown",
   "metadata": {},
   "source": [
    "# test_train_split.py"
   ]
  },
  {
   "cell_type": "code",
   "execution_count": 5,
   "metadata": {},
   "outputs": [
    {
     "data": {
      "text/plain": [
       "'\\n    Parameters:\\n    1. test_size: This argument takes int and it denotes the size of test data from our original data\\n    2. random_state: This fixes random seed and ensure reproducibilty of code\\n    3. stratify: Takes an array or pandas series and ensures that both training and testing data have\\n                 same Distribution as the array or pandas series we passed.\\n'"
      ]
     },
     "execution_count": 5,
     "metadata": {},
     "output_type": "execute_result"
    }
   ],
   "source": [
    "# Let's import train_test_split from sklearn\n",
    "from sklearn.model_selection import train_test_split\n",
    "\n",
    "# Splitting the data\n",
    "\"\"\" the parameter test_size is used to determine how much portion of the data should be used for testing. random_state parameter sets\n",
    "    random seed, which helps us with the reproducibility of the code and the results\"\"\"\n",
    "x_train, x_test, y_train,y_test = train_test_split(x,y,test_size =0.3,random_state = 12,stratify=y)\n",
    "\n",
    "\"\"\"\n",
    "    Parameters:\n",
    "    1. test_size: This argument takes int and it denotes the size of test data from our original data\n",
    "    2. random_state: This fixes random seed and ensure reproducibilty of code\n",
    "    3. stratify: Takes an array or pandas series and ensures that both training and testing data have\n",
    "                 same Distribution as the array or pandas series we passed.\n",
    "\"\"\""
   ]
  },
  {
   "cell_type": "code",
   "execution_count": 8,
   "metadata": {},
   "outputs": [
    {
     "name": "stdout",
     "output_type": "stream",
     "text": [
      "[2 0 2 2 2 0 0 1 0 2 0 0 0 0 1 2 1 1 1 2 2 2 2 2 0 1 1 0 0 1 1 1 1 2 2 0 0\n",
      " 0 2 1 2 0 1 1 2]\n"
     ]
    },
    {
     "name": "stderr",
     "output_type": "stream",
     "text": [
      "C:\\ProgramData\\Anaconda3\\lib\\site-packages\\sklearn\\neighbors\\_classification.py:179: DataConversionWarning: A column-vector y was passed when a 1d array was expected. Please change the shape of y to (n_samples,), for example using ravel().\n",
      "  return self._fit(X, y)\n"
     ]
    },
    {
     "data": {
      "text/plain": [
       "0.9777777777777777"
      ]
     },
     "execution_count": 8,
     "metadata": {},
     "output_type": "execute_result"
    }
   ],
   "source": [
    "# Get KNN model form sklearn library\n",
    "\n",
    "from sklearn.neighbors import KNeighborsClassifier\n",
    "\n",
    "# Intialize the model\n",
    "\n",
    "knn = KNeighborsClassifier(n_neighbors= 3)\n",
    "\"\"\"n_neighbors parameter is used to declare K value i.e., the number of nearest neighbors \n",
    "    that we are using to compare our sample with.\"\"\"\n",
    "\n",
    "# Training the model\n",
    "\n",
    "knn.fit(x_train,y_train)\n",
    "\n",
    "\"\"\".fit() takes both feature training data(x_train) and target training data(y_train)\n",
    "   to train the model as this is a Supervised learning algorithm\"\"\"\n",
    "\n",
    "# Predicting values\n",
    "\n",
    "y_predict = knn.predict(x_test)\n",
    "\n",
    "# Printing predicted values\n",
    "\n",
    "print(y_predict)\n",
    "\n"
   ]
  },
  {
   "cell_type": "code",
   "execution_count": null,
   "metadata": {},
   "outputs": [],
   "source": []
  }
 ],
 "metadata": {
  "interpreter": {
   "hash": "b3ba2566441a7c06988d0923437866b63cedc61552a5af99d1f4fb67d367b25f"
  },
  "kernelspec": {
   "display_name": "Python 3.8.8 ('base')",
   "language": "python",
   "name": "python3"
  },
  "language_info": {
   "codemirror_mode": {
    "name": "ipython",
    "version": 3
   },
   "file_extension": ".py",
   "mimetype": "text/x-python",
   "name": "python",
   "nbconvert_exporter": "python",
   "pygments_lexer": "ipython3",
   "version": "3.8.8"
  },
  "orig_nbformat": 4
 },
 "nbformat": 4,
 "nbformat_minor": 2
}
